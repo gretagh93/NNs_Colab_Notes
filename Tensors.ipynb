{
  "nbformat": 4,
  "nbformat_minor": 0,
  "metadata": {
    "colab": {
      "provenance": [],
      "authorship_tag": "ABX9TyPIG3fqPxMre06dHSUgFyjY",
      "include_colab_link": true
    },
    "kernelspec": {
      "name": "python3",
      "display_name": "Python 3"
    },
    "language_info": {
      "name": "python"
    },
    "gpuClass": "standard"
  },
  "cells": [
    {
      "cell_type": "markdown",
      "metadata": {
        "id": "view-in-github",
        "colab_type": "text"
      },
      "source": [
        "<a href=\"https://colab.research.google.com/github/gretagh93/NNs_Colab_Notes/blob/main/Tensors.ipynb\" target=\"_parent\"><img src=\"https://colab.research.google.com/assets/colab-badge.svg\" alt=\"Open In Colab\"/></a>"
      ]
    },
    {
      "cell_type": "markdown",
      "source": [
        "# Tensors - Pytorch"
      ],
      "metadata": {
        "id": "XUdLp683bqK7"
      }
    },
    {
      "cell_type": "code",
      "source": [
        "import torch\n",
        "import numpy as np"
      ],
      "metadata": {
        "id": "3qMP-kq7d90V"
      },
      "execution_count": 1,
      "outputs": []
    },
    {
      "cell_type": "markdown",
      "source": [
        "## Inicialize"
      ],
      "metadata": {
        "id": "C5I-A4u3b7ze"
      }
    },
    {
      "cell_type": "code",
      "source": [
        "data = [[1, 2], [3, 4]]\n",
        "x_data = torch.tensor(data)"
      ],
      "metadata": {
        "id": "Rtf4Do5IeLHC"
      },
      "execution_count": 2,
      "outputs": []
    },
    {
      "cell_type": "markdown",
      "source": [
        "Diferences between ones_like and rand_like functions"
      ],
      "metadata": {
        "id": "TC06WOqWbyGu"
      }
    },
    {
      "cell_type": "code",
      "execution_count": 3,
      "metadata": {
        "colab": {
          "base_uri": "https://localhost:8080/"
        },
        "id": "E8mA2phWbm10",
        "outputId": "dc714ea8-6d0c-4691-b687-688afc8b0194"
      },
      "outputs": [
        {
          "output_type": "stream",
          "name": "stdout",
          "text": [
            "tensor([[1, 1],\n",
            "        [1, 1]])\n"
          ]
        }
      ],
      "source": [
        "# ones_like: Retorna un tensor omplert amb 1. Tindrà la mateixa mida que # l'input donat.\n",
        "x_ones = torch.ones_like(x_data)\n",
        "print(x_ones)"
      ]
    },
    {
      "cell_type": "code",
      "source": [
        "# rand_like: Retorna un tensor omplert amb nombres aleatoris d'una \n",
        "# distribució uniforme en l'interval [0, 1). Tindrà la mateixa mida \n",
        "# que l'input donat.\n",
        "x_ones = torch.rand_like(x_data, dtype=torch.float)\n",
        "print(x_ones)"
      ],
      "metadata": {
        "colab": {
          "base_uri": "https://localhost:8080/"
        },
        "id": "dq_WKWiKh6BU",
        "outputId": "e3fe1f7c-3966-4e02-9cf1-5c166fe78207"
      },
      "execution_count": 4,
      "outputs": [
        {
          "output_type": "stream",
          "name": "stdout",
          "text": [
            "tensor([[0.7654, 0.2584],\n",
            "        [0.5829, 0.3009]])\n"
          ]
        }
      ]
    },
    {
      "cell_type": "markdown",
      "source": [
        "Using shape, a tuple of tensor dimensions."
      ],
      "metadata": {
        "id": "YnlnLtlvTD96"
      }
    },
    {
      "cell_type": "code",
      "source": [
        "shape = (4, 4,)\n",
        "rand_tensor = torch.rand(shape)\n",
        "zeros_tensor = torch.zeros(shape)\n",
        "\n",
        "print(f\"Random Tensor: \\n {rand_tensor} \\n\")\n",
        "print(f\"Zeros Tensor: \\n {zeros_tensor} \\n\")"
      ],
      "metadata": {
        "colab": {
          "base_uri": "https://localhost:8080/"
        },
        "id": "R_F-NuLVTB1E",
        "outputId": "2d0f1301-64ee-427b-aca1-558c9e15474c"
      },
      "execution_count": 5,
      "outputs": [
        {
          "output_type": "stream",
          "name": "stdout",
          "text": [
            "Random Tensor: \n",
            " tensor([[0.3978, 0.9317, 0.3785, 0.5217],\n",
            "        [0.1532, 0.6120, 0.6379, 0.1315],\n",
            "        [0.9235, 0.3594, 0.2190, 0.8067],\n",
            "        [0.1763, 0.2802, 0.9461, 0.7064]]) \n",
            "\n",
            "Zeros Tensor: \n",
            " tensor([[0., 0., 0., 0.],\n",
            "        [0., 0., 0., 0.],\n",
            "        [0., 0., 0., 0.],\n",
            "        [0., 0., 0., 0.]]) \n",
            "\n"
          ]
        }
      ]
    },
    {
      "cell_type": "markdown",
      "source": [
        "## Tensor Attributes"
      ],
      "metadata": {
        "id": "CN3XXVqmVM6r"
      }
    },
    {
      "cell_type": "code",
      "source": [
        "tensor = torch.rand(3, 4)\n",
        "\n",
        "# shape\n",
        "print(f\"Shape: {tensor.shape}\")\n",
        "# datatype\n",
        "print(f\"Datatype: {tensor.dtype}\")\n",
        "# device\n",
        "print(f\"Device: {tensor.device}\")"
      ],
      "metadata": {
        "colab": {
          "base_uri": "https://localhost:8080/"
        },
        "id": "OpEOBC_UVQCd",
        "outputId": "68ca1cb8-bb8b-4d03-a935-23f4d4ed6edc"
      },
      "execution_count": 6,
      "outputs": [
        {
          "output_type": "stream",
          "name": "stdout",
          "text": [
            "Shape: torch.Size([3, 4])\n",
            "Datatype: torch.float32\n",
            "Device: cpu\n"
          ]
        }
      ]
    },
    {
      "cell_type": "markdown",
      "source": [
        "## Operations"
      ],
      "metadata": {
        "id": "Y6kFe37FWoRf"
      }
    },
    {
      "cell_type": "code",
      "source": [
        "# Change of device\n",
        "if torch.cuda.is_available():\n",
        "  tensor = tensor.to('cuda')\n",
        "  print(f\"Device tensor is stored on: {tensor.device}\")"
      ],
      "metadata": {
        "id": "bCK8qpa6WqUQ"
      },
      "execution_count": 7,
      "outputs": []
    },
    {
      "cell_type": "code",
      "source": [
        "# Indexing\n",
        "tensor = torch.ones(4, 4)\n",
        "tensor[:,1] = 0\n",
        "print(tensor)"
      ],
      "metadata": {
        "colab": {
          "base_uri": "https://localhost:8080/"
        },
        "id": "Y2u8l73eXGkm",
        "outputId": "a21c42f1-997f-42f6-ec3b-48b1aa9d2721"
      },
      "execution_count": 8,
      "outputs": [
        {
          "output_type": "stream",
          "name": "stdout",
          "text": [
            "tensor([[1., 0., 1., 1.],\n",
            "        [1., 0., 1., 1.],\n",
            "        [1., 0., 1., 1.],\n",
            "        [1., 0., 1., 1.]])\n"
          ]
        }
      ]
    },
    {
      "cell_type": "code",
      "source": [
        "# Add\n",
        "print(torch.add(tensor, 20))"
      ],
      "metadata": {
        "colab": {
          "base_uri": "https://localhost:8080/"
        },
        "id": "cDeEjxkyZVna",
        "outputId": "f69dacc3-7758-41ba-e2b7-b429fe4f7f7c"
      },
      "execution_count": 9,
      "outputs": [
        {
          "output_type": "stream",
          "name": "stdout",
          "text": [
            "tensor([[21., 20., 21., 21.],\n",
            "        [21., 20., 21., 21.],\n",
            "        [21., 20., 21., 21.],\n",
            "        [21., 20., 21., 21.]])\n"
          ]
        }
      ]
    },
    {
      "cell_type": "markdown",
      "source": [
        "### Multiply Element-Wise vs Matrix Multiplication"
      ],
      "metadata": {
        "id": "mIObjhxubjCa"
      }
    },
    {
      "cell_type": "code",
      "source": [
        "# Element-wise product\n",
        "print(tensor.mul(tensor))\n",
        "print(tensor * rand_tensor)"
      ],
      "metadata": {
        "colab": {
          "base_uri": "https://localhost:8080/"
        },
        "id": "vBJvo3OgZ8q5",
        "outputId": "fe12179e-5d09-4a7c-a189-16fa8ec6a6ec"
      },
      "execution_count": 10,
      "outputs": [
        {
          "output_type": "stream",
          "name": "stdout",
          "text": [
            "tensor([[1., 0., 1., 1.],\n",
            "        [1., 0., 1., 1.],\n",
            "        [1., 0., 1., 1.],\n",
            "        [1., 0., 1., 1.]])\n",
            "tensor([[0.3978, 0.0000, 0.3785, 0.5217],\n",
            "        [0.1532, 0.0000, 0.6379, 0.1315],\n",
            "        [0.9235, 0.0000, 0.2190, 0.8067],\n",
            "        [0.1763, 0.0000, 0.9461, 0.7064]])\n"
          ]
        }
      ]
    },
    {
      "cell_type": "code",
      "source": [
        "# Element-wise product\n",
        "a = torch.randn(3)\n",
        "torch.mul(a, 100)\n",
        "b = torch.randn(4, 1)\n",
        "c = torch.randn(1, 4)\n",
        "torch.mul(b, c)"
      ],
      "metadata": {
        "colab": {
          "base_uri": "https://localhost:8080/"
        },
        "id": "D5VBOX2dbX2S",
        "outputId": "0e6aa669-5af5-4aa0-9a23-ef15d291083f"
      },
      "execution_count": 11,
      "outputs": [
        {
          "output_type": "execute_result",
          "data": {
            "text/plain": [
              "tensor([[-0.8626,  0.7906,  0.7611,  0.3295],\n",
              "        [-0.1885,  0.1727,  0.1663,  0.0720],\n",
              "        [ 0.9590, -0.8790, -0.8462, -0.3663],\n",
              "        [-0.6082,  0.5575,  0.5366,  0.2323]])"
            ]
          },
          "metadata": {},
          "execution_count": 11
        }
      ]
    },
    {
      "cell_type": "code",
      "source": [
        "# Matrix Multiplication\n",
        "# mT -> Transpose matrix\n",
        "print(tensor.matmul(tensor.mT))\n",
        "print(tensor @ tensor.mT)"
      ],
      "metadata": {
        "colab": {
          "base_uri": "https://localhost:8080/"
        },
        "id": "W3i9oKfpb83S",
        "outputId": "84d45d35-986f-45c7-d29c-23280b6d7ac4"
      },
      "execution_count": 12,
      "outputs": [
        {
          "output_type": "stream",
          "name": "stdout",
          "text": [
            "tensor([[3., 3., 3., 3.],\n",
            "        [3., 3., 3., 3.],\n",
            "        [3., 3., 3., 3.],\n",
            "        [3., 3., 3., 3.]])\n",
            "tensor([[3., 3., 3., 3.],\n",
            "        [3., 3., 3., 3.],\n",
            "        [3., 3., 3., 3.],\n",
            "        [3., 3., 3., 3.]])\n"
          ]
        }
      ]
    },
    {
      "cell_type": "markdown",
      "source": [
        "## Bridge with Numpy"
      ],
      "metadata": {
        "id": "dEHlSkMsevbI"
      }
    },
    {
      "cell_type": "code",
      "source": [
        "t = torch.ones(5)\n",
        "print(f\"Pycharm Tensor: {t}\")\n",
        "n = t.numpy()\n",
        "print(f\"Numpy Array: {n} \\n\")\n",
        "\n",
        "# Differences between add_ and add\n",
        "# t = torch.add(t, 20)\n",
        "t.add_(1)\n",
        "t = torch.add(t, 20)\n",
        "\n",
        "\n",
        "print(f\"Pycharm Tensor: {t}\")\n",
        "print(f\"Numpy Array: {n}\")"
      ],
      "metadata": {
        "colab": {
          "base_uri": "https://localhost:8080/"
        },
        "id": "_2rKW_H1exre",
        "outputId": "d57fde4d-d26c-467e-f9c8-7d26a09f984c"
      },
      "execution_count": 13,
      "outputs": [
        {
          "output_type": "stream",
          "name": "stdout",
          "text": [
            "Pycharm Tensor: tensor([1., 1., 1., 1., 1.])\n",
            "Numpy Array: [1. 1. 1. 1. 1.] \n",
            "\n",
            "Pycharm Tensor: tensor([22., 22., 22., 22., 22.])\n",
            "Numpy Array: [2. 2. 2. 2. 2.]\n"
          ]
        }
      ]
    },
    {
      "cell_type": "markdown",
      "source": [
        "## NumPy array to Tensor"
      ],
      "metadata": {
        "id": "WFY-1lD2gOLe"
      }
    },
    {
      "cell_type": "code",
      "source": [
        "n = np.ones(5)\n",
        "t = torch.from_numpy(n)\n",
        "\n",
        "np.add(n, 1, out=n)\n",
        "print(f\"t: {t}\")\n",
        "print(f\"n: {n}\")"
      ],
      "metadata": {
        "colab": {
          "base_uri": "https://localhost:8080/"
        },
        "id": "iVfjUUJOgTi4",
        "outputId": "748588bd-341f-4f33-80f1-a768018c69da"
      },
      "execution_count": 14,
      "outputs": [
        {
          "output_type": "stream",
          "name": "stdout",
          "text": [
            "t: tensor([2., 2., 2., 2., 2.], dtype=torch.float64)\n",
            "n: [2. 2. 2. 2. 2.]\n"
          ]
        }
      ]
    },
    {
      "cell_type": "code",
      "source": [],
      "metadata": {
        "id": "cQ1qwHlFoTf9"
      },
      "execution_count": 14,
      "outputs": []
    }
  ]
}